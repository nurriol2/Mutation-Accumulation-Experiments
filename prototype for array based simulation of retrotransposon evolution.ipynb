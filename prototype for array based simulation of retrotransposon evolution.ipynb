{
 "cells": [
  {
   "cell_type": "code",
   "execution_count": 1,
   "metadata": {},
   "outputs": [
    {
     "name": "stdout",
     "output_type": "stream",
     "text": [
      "C:\\Users\\nashere2\\Documents\\Mutation-Accumulation-Experiments\n"
     ]
    }
   ],
   "source": [
    "cd C:/Users/nashere2/Documents/Mutation-Accumulation-Experiments"
   ]
  },
  {
   "cell_type": "code",
   "execution_count": 2,
   "metadata": {
    "collapsed": true
   },
   "outputs": [],
   "source": [
    "import RTEpopulation as RTEpop\n",
    "import numpy as np\n",
    "import matplotlib.pyplot as plt\n",
    "%matplotlib inline"
   ]
  },
  {
   "cell_type": "code",
   "execution_count": 3,
   "metadata": {
    "collapsed": true
   },
   "outputs": [],
   "source": [
    "class rtePopulationArray(RTEpop.rtePopulationInterface):\n",
    "    \n",
    "    def __init__(self, population_distribution, min_active, min_inactive, min_compensating,\n",
    "                 fitness_function, population_growth_function, p_full_insert, p_partial_insert,\n",
    "                 p_deactivate, p_compensate, time=0,alpha=1):\n",
    "\n",
    "        self.population_distribution = np.atleast_3d(population_distribution)\n",
    "        num_actives = self.population_distribution.shape[0]\n",
    "        num_inactives = self.population_distribution.shape[1]\n",
    "        num_compensatings = self.population_distribution.shape[2]\n",
    "        self.actives = np.arange(min_active, min_active + num_actives).reshape(num_actives, 1, 1)\n",
    "        self.inactives = np.arange(min_inactive, min_inactive + num_inactives).reshape(1, num_inactives, 1)\n",
    "        self.compensatings = np.arange(min_compensating, min_compensating + num_compensatings).reshape(1, 1, num_compensatings)\n",
    "\n",
    "        self.fitness_function = fitness_function\n",
    "        self.population_growth_function = population_growth_function\n",
    "        \n",
    "        if p_full_insert < 0:\n",
    "            raise ValueError('p_full_insert must be >=0')\n",
    "        self.p_full_insert = p_full_insert\n",
    "\n",
    "        if p_partial_insert < 0:\n",
    "            raise ValueError('p_partial_insert must be >=0')\n",
    "        self.p_partial_insert = p_partial_insert\n",
    "\n",
    "        if p_deactivate < 0:\n",
    "            raise ValueError('p_deactivate must be >=0')\n",
    "        self.p_deactivate = p_deactivate\n",
    "\n",
    "        if p_compensate < 0:\n",
    "            raise ValueError('p_deactivate must be >=0')\n",
    "        self.p_compensate = p_compensate\n",
    "        \n",
    "        self.time = time\n",
    "        self.alpha = alpha\n",
    "    \n",
    "    def __repr__(self):\n",
    "        actives_str = repr(self.actives)\n",
    "        inactives_str = repr(self.inactives)\n",
    "        compensating_str = repr(self.compensatings)\n",
    "        full_distribution_str = repr(self.population_distribution)\n",
    "        return_str = \"active_RTE's:\\n\" + actives_str + \"\\n\" + \\\n",
    "            \"inactive_RTE's:\\n\" + inactives_str + \"\\n\" + \\\n",
    "            \"compensating mutations:\\n\" + compensating_str + \"\\n\" + \\\n",
    "            \"population distribution:\\n\" +  full_distribution_str + \"\\n\"\n",
    "        return return_str\n",
    "\n",
    "    def full_distribution(self):\n",
    "        return self.actives, self.inactives, self.compensatings, self.population_distribution\n",
    "\n",
    "    def active_rte_dist(self):\n",
    "        active_distribution = np.sum(np.sum(self.population_distribution, 1), 1)\n",
    "        return self.actives.flatten(), active_distribution\n",
    "\n",
    "    def mean_active_rtes(self):\n",
    "        active, active_distribution = self.active_rte_dist()\n",
    "        return np.sum(active.astype('float64')*active_distribution)/np.sum(active_distribution)\n",
    "\n",
    "    def inactive_rte_dist(self):\n",
    "        inactive_distribution = np.sum(np.sum(self.population_distribution, 0), 1)\n",
    "        return self.inactives.flatten(), inactive_distribution\n",
    "\n",
    "    def mean_inactive_rtes(self):\n",
    "        inactive, inactive_distribution = self.inactive_rte_dist()\n",
    "        return np.sum(inactive.astype('float64')*inactive_distribution) / \\\n",
    "            np.sum(inactive_distribution)\n",
    "\n",
    "    def compensating_mutations_dist(self):\n",
    "        compensating_distribution = np.sum(np.sum(self.population_distribution, 0), 0)\n",
    "        return self.compensatings.flatten(), compensating_distribution\n",
    "\n",
    "    def mean_compensating_mutations(self):\n",
    "        compensating, compensating_distribution = \\\n",
    "            self.compensating_mutations_dist()\n",
    "        return np.sum(compensating.astype('float64')*compensating_distribution) / \\\n",
    "            np.sum(compensating_distribution)\n",
    "\n",
    "    def fitness_dist(self):\n",
    "        fitnesses = self.fitness_function(self.actives, self.inactives, self.compensatings).flatten()\n",
    "        fitness_dist = self.population_distribution.flatten()\n",
    "        sort_order = fitnesses.argsort()\n",
    "        fitnesses = fitnesses[sort_order]\n",
    "        fitness_dist = fitness_dist[sort_order]\n",
    "        unique_fitnesses = []\n",
    "        unique_fitness_dist = []\n",
    "        current_fitness_class = fitnesses[0]\n",
    "        current_total = 0\n",
    "        for i, fit in enumerate(fitnesses):\n",
    "            if fit != current_fitness_class:\n",
    "                unique_fitnesses.append(current_fitness_class)\n",
    "                unique_fitness_dist.append(current_total)\n",
    "                current_total = 0\n",
    "                current_fitness_class = fit\n",
    "            current_total = current_total + fitness_dist[i]\n",
    "        unique_fitnesses.append(current_fitness_class)\n",
    "        unique_fitness_dist.append(current_total)\n",
    "        return np.array(unique_fitnesses), np.array(unique_fitness_dist)\n",
    "\n",
    "    def mean_fitness(self):\n",
    "        fitnesses, fitness_distribution = self.fitness_dist()\n",
    "        return np.sum(fitnesses*fitness_distribution)/np.sum(fitness_distribution)\n",
    "\n",
    "    def growth_rate_dist(self):\n",
    "        fitnesses, fitness_dist = self.fitness_dist()\n",
    "        r = self.mean_growth_rate()\n",
    "        return fitnesses - self.mean_fitness() + r, fitness_dist\n",
    "\n",
    "    def mean_growth_rate(self):\n",
    "        r = self.population_growth_function(np.sum(self.population_distribution), self.time)\n",
    "        return r\n",
    "\n",
    "    def update(self, dt):\n",
    "        if np.sum(self.population_distribution) == 0:\n",
    "            raise StopIteration('This population has no individuals in it')\n",
    "        self._mutations(dt)\n",
    "        mean_f = self.mean_fitness()\n",
    "        r = self.mean_growth_rate()\n",
    "        births = self._births(dt, mean_f, r)\n",
    "        deaths = self._deaths(dt, mean_f, r)\n",
    "        self.population_distribution = self.population_distribution + births - deaths\n",
    "        self.time = self.time + dt\n",
    "\n",
    "    def _mutations(self, dt):\n",
    "        dt_left = dt\n",
    "        while dt_left > 0:\n",
    "            step_size = min(dt_left, self.step_size())\n",
    "            self._dmutate(step_size)\n",
    "            dt_left = dt_left - step_size\n",
    "\n",
    "    def step_size(self):\n",
    "        max_active = self.actives[-1,0,0]\n",
    "        max_inactive = self.inactives[0,-1,0]\n",
    "        min_compensating = self.compensatings[0,0,0]\n",
    "        step_size = .05/( (self.p_full_insert+self.p_partial_insert+self.p_deactivate)*max_active +\n",
    "                  self.p_compensate*(max_active+max_inactive-min_compensating) )\n",
    "        return step_size\n",
    "\n",
    "    def _dmutate(self, dt):\n",
    "        '''Do not call this method directly. It is for small timesteps.\n",
    "        \n",
    "        The simulation results will break in a possibly unnoticeable manner if dt is too big.'''\n",
    "        p_active_up = self.p_full_insert*dt*self.actives\n",
    "        active_increase = np.random.binomial(self.population_distribution,p_active_up)\n",
    "        self.population_distribution = self.population_distribution - active_increase\n",
    "        active_increase = np.pad(active_increase, ((2,0),(0,1),(0,1)), 'constant')\n",
    "\n",
    "        p_inactive_up = self.p_partial_insert*dt*self.actives\n",
    "        inactive_increase = np.random.binomial(self.population_distribution, p_inactive_up/(1-p_active_up))\n",
    "        self.population_distribution = self.population_distribution - inactive_increase\n",
    "        inactive_increase = np.pad(inactive_increase, ((1,1),(1,0),(0,1)), 'constant')\n",
    "\n",
    "        p_deactivate_up = self.p_deactivate*dt*self.actives\n",
    "        deactivate_increase = np.random.binomial(self.population_distribution, p_deactivate_up/(1-p_active_up-p_inactive_up))\n",
    "        self.population_distribution = self.population_distribution - deactivate_increase\n",
    "        deactivate_increase = np.pad(deactivate_increase, ((0,2),(1,0),(0,1)), 'constant')\n",
    "\n",
    "        p_compensate_up = np.maximum(self.p_compensate*dt*(self.actives+self.inactives-self.compensatings),0)\n",
    "        compensate_increase = np.random.binomial(self.population_distribution,\n",
    "                                                 p_compensate_up/(1-p_active_up-p_inactive_up-p_deactivate_up))\n",
    "        self.population_distribution = self.population_distribution - compensate_increase\n",
    "        compensate_increase = np.pad(compensate_increase, ((1,1),(0,1),(1,0)), 'constant')\n",
    "\n",
    "        self.actives = np.pad(self.actives, ((1,1),(0,0),(0,0)), 'linear_ramp',\n",
    "                              end_values=((self.actives[0,0,0]-1,self.actives[-1,0,0]+1),(0,0),(0,0)))\n",
    "        self.inactives = np.pad(self.inactives, ((0,0),(0,1),(0,0)), 'linear_ramp',\n",
    "                              end_values=((0,0),(0,self.inactives[0,-1,0]+1),(0,0)))\n",
    "        self.compensatings = np.pad(self.compensatings, ((0,0),(0,0),(0,1)), 'linear_ramp',\n",
    "                              end_values=((0,0),(0,0),(0,self.compensatings[0,0,-1]+1)))\n",
    "        self.population_distribution = np.pad(self.population_distribution, ((1,1),(0,1),(0,1)), 'constant')\n",
    "        self.population_distribution = self.population_distribution + active_increase + inactive_increase + \\\n",
    "            deactivate_increase + compensate_increase\n",
    "        self._trim_updates()\n",
    "\n",
    "    def _trim_updates(self):\n",
    "        while np.sum(self.population_distribution[0,:,:]) == 0:\n",
    "            self.population_distribution = np.delete(self.population_distribution, 0, 0)\n",
    "            self.actives = np.delete(self.actives, 0, 0)\n",
    "        while np.sum(self.population_distribution[-1,:,:]) == 0:\n",
    "            self.population_distribution = np.delete(self.population_distribution, -1, 0)\n",
    "            self.actives = np.delete(self.actives, -1, 0)\n",
    "        while np.sum(self.population_distribution[:,0,:]) == 0:\n",
    "            self.population_distribution = np.delete(self.population_distribution, 0, 1)\n",
    "            self.inactives = np.delete(self.inactives , 0, 1)\n",
    "        while np.sum(self.population_distribution[:,-1,:]) == 0:\n",
    "            self.population_distribution = np.delete(self.population_distribution, -1, 1)\n",
    "            self.inactives = np.delete(self.inactives , -1, 1)\n",
    "        while np.sum(self.population_distribution[:,:,0]) == 0:\n",
    "            self.population_distribution = np.delete(self.population_distribution, 0, 2)\n",
    "            self.compensatings = np.delete(self.compensatings , 0, 2)\n",
    "        while np.sum(self.population_distribution[:,:,-1]) == 0:\n",
    "            self.population_distribution = np.delete(self.population_distribution, -1, 2)\n",
    "            self.compensatings = np.delete(self.compensatings , -1, 2)\n",
    "        \n",
    "\n",
    "    def _births(self, dt, mean_f, r):\n",
    "        fitnesses = self.fitness_function(self.actives, self.inactives, self.compensatings)\n",
    "        test = fitnesses - mean_f + r\n",
    "        high_f = (test>0)*self.population_distribution\n",
    "        low_f = (test<=0)*self.population_distribution\n",
    "        high_births = np.random.poisson(high_f*(test+self.alpha)*(test>0)*dt)\n",
    "        low_births = np.random.poisson(low_f*self.alpha*dt)\n",
    "        return high_births + low_births\n",
    "\n",
    "    def _deaths(self, dt, mean_f, r):\n",
    "        fitnesses = self.fitness_function(self.actives, self.inactives, self.compensatings)\n",
    "        test = fitnesses - mean_f + r\n",
    "        high_f = (test>0)*self.population_distribution\n",
    "        low_f = (test<=0)*self.population_distribution\n",
    "        high_deaths = np.random.binomial(high_f, self.alpha*dt)\n",
    "        low_deaths = np.random.binomial(low_f, -(test-self.alpha)*(test<=0)*dt)\n",
    "        return high_deaths + low_deaths"
   ]
  },
  {
   "cell_type": "code",
   "execution_count": 4,
   "metadata": {
    "collapsed": true
   },
   "outputs": [],
   "source": [
    "def test_fitness_function(active, inactive, compensating):\n",
    "    return -.001 * (active + inactive - compensating)\n",
    "\n",
    "def test_growth_rate_function(N, t):\n",
    "    return (1 - N/(10**9))"
   ]
  },
  {
   "cell_type": "code",
   "execution_count": 5,
   "metadata": {},
   "outputs": [],
   "source": [
    "testpop = rtePopulationArray(10**3, 20, 0, 0, test_fitness_function, test_growth_rate_function, .001, .01, .0001, 0)"
   ]
  },
  {
   "cell_type": "code",
   "execution_count": 6,
   "metadata": {},
   "outputs": [],
   "source": [
    "mean_active=[testpop.mean_active_rtes()]\n",
    "mean_inactive=[testpop.mean_inactive_rtes()]\n",
    "mean_compensating=[testpop.mean_compensating_mutations()]\n",
    "mean_fitness=[testpop.mean_fitness()]\n",
    "mean_growth_rate=[testpop.mean_growth_rate()]\n",
    "pop_size=[np.sum(testpop.population_distribution)]\n",
    "for gen in range(20):\n",
    "    for i in range(10):\n",
    "        testpop.update(.1)\n",
    "    mean_active.append(testpop.mean_active_rtes())\n",
    "    mean_inactive.append(testpop.mean_inactive_rtes())\n",
    "    mean_compensating.append(testpop.mean_compensating_mutations())\n",
    "    mean_fitness.append(testpop.mean_fitness())\n",
    "    mean_growth_rate.append(testpop.mean_growth_rate())\n",
    "    pop_size.append(np.sum(testpop.population_distribution))"
   ]
  },
  {
   "cell_type": "code",
   "execution_count": 7,
   "metadata": {},
   "outputs": [
    {
     "data": {
      "text/plain": [
       "[<matplotlib.lines.Line2D at 0x804f748>]"
      ]
     },
     "execution_count": 7,
     "metadata": {},
     "output_type": "execute_result"
    },
    {
     "data": {
      "image/png": "[encoded data removed]",
      "text/plain": [
       "<matplotlib.figure.Figure at 0x7f7fcf8>"
      ]
     },
     "metadata": {},
     "output_type": "display_data"
    }
   ],
   "source": [
    "plt.plot(mean_active)"
   ]
  },
  {
   "cell_type": "code",
   "execution_count": 8,
   "metadata": {},
   "outputs": [
    {
     "data": {
      "text/plain": [
       "[<matplotlib.lines.Line2D at 0x847a358>]"
      ]
     },
     "execution_count": 8,
     "metadata": {},
     "output_type": "execute_result"
    },
    {
     "data": {
      "image/png": "[encoded data removed]",
      "text/plain": [
       "<matplotlib.figure.Figure at 0x83b5ac8>"
      ]
     },
     "metadata": {},
     "output_type": "display_data"
    }
   ],
   "source": [
    "plt.plot(mean_inactive)"
   ]
  },
  {
   "cell_type": "code",
   "execution_count": 9,
   "metadata": {},
   "outputs": [
    {
     "data": {
      "text/plain": [
       "[<matplotlib.lines.Line2D at 0x8514da0>]"
      ]
     },
     "execution_count": 9,
     "metadata": {},
     "output_type": "execute_result"
    },
    {
     "data": {
      "image/png": "[encoded data removed]",
      "text/plain": [
       "<matplotlib.figure.Figure at 0x8490390>"
      ]
     },
     "metadata": {},
     "output_type": "display_data"
    }
   ],
   "source": [
    "plt.plot(mean_compensating)"
   ]
  },
  {
   "cell_type": "code",
   "execution_count": 10,
   "metadata": {},
   "outputs": [
    {
     "data": {
      "text/plain": [
       "[<matplotlib.lines.Line2D at 0x85ac6a0>]"
      ]
     },
     "execution_count": 10,
     "metadata": {},
     "output_type": "execute_result"
    },
    {
     "data": {
      "image/png": "[encoded data removed]",
      "text/plain": [
       "<matplotlib.figure.Figure at 0x8524710>"
      ]
     },
     "metadata": {},
     "output_type": "display_data"
    }
   ],
   "source": [
    "plt.plot(mean_fitness)"
   ]
  },
  {
   "cell_type": "code",
   "execution_count": 11,
   "metadata": {},
   "outputs": [
    {
     "data": {
      "text/plain": [
       "[<matplotlib.lines.Line2D at 0x8644048>]"
      ]
     },
     "execution_count": 11,
     "metadata": {},
     "output_type": "execute_result"
    },
    {
     "data": {
      "image/png": "[encoded data removed]",
      "text/plain": [
       "<matplotlib.figure.Figure at 0x85c93c8>"
      ]
     },
     "metadata": {},
     "output_type": "display_data"
    }
   ],
   "source": [
    "plt.plot(mean_growth_rate)"
   ]
  },
  {
   "cell_type": "code",
   "execution_count": 12,
   "metadata": {},
   "outputs": [
    {
     "data": {
      "text/plain": [
       "[<matplotlib.lines.Line2D at 0x864c198>]"
      ]
     },
     "execution_count": 12,
     "metadata": {},
     "output_type": "execute_result"
    },
    {
     "data": {
      "image/png": "[encoded data removed]",
      "text/plain": [
       "<matplotlib.figure.Figure at 0x854eeb8>"
      ]
     },
     "metadata": {},
     "output_type": "display_data"
    }
   ],
   "source": [
    "plt.semilogy(pop_size)"
   ]
  },
  {
   "cell_type": "code",
   "execution_count": null,
   "metadata": {
    "collapsed": true
   },
   "outputs": [],
   "source": []
  }
 ],
 "metadata": {
  "kernelspec": {
   "display_name": "Python 3",
   "language": "python",
   "name": "python3"
  },
  "language_info": {
   "codemirror_mode": {
    "name": "ipython",
    "version": 3
   },
   "file_extension": ".py",
   "mimetype": "text/x-python",
   "name": "python",
   "nbconvert_exporter": "python",
   "pygments_lexer": "ipython3",
   "version": "3.6.1"
  }
 },
 "nbformat": 4,
 "nbformat_minor": 2
}
